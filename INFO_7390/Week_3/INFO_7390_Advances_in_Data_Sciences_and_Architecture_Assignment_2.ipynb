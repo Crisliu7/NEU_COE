{
 "cells": [
  {
   "cell_type": "markdown",
   "metadata": {
    "collapsed": true
   },
   "source": [
    "## Assignment 2\n",
    "\n",
    "**Due Friday, October 13, 2017**\n",
    "\n",
    "_Submission: Put the data and Jupyter notebook files in a folder. Make sure all links to data are relative to the folder so the TAs can run the notebooks._\n",
    "\n",
    "Use the public dataset that you used for cleaning and EDA in Assignment 1. You _MUST_ get approval if you wish to use a _different_ dataset.\n",
    "\n",
    "In this assingment you will create predictive linear models.\n",
    "\n",
    "* Generate a linear model for the following:\n",
    "    * Find a significant linear relation of your choosing in your data. Create a multivariate linear model. (75 points)  \n",
    "    * Find a significant logistic linear model of your choosing in your data. Create a logistic linear model. (25 points)  \n",
    "  \n",
    "Answer the following questions for the multivariate linear model:  \n",
    "    * Is the relationship significant?\n",
    "    * Are any model assumptions violated?\n",
    "    * Is there any multi-colinearity in the model?\n",
    "    * In the multivariate models are predictor variables independent of all the other predictor variables?\n",
    "    * In in multivariate models rank the most significant predictor variables and exclude insignificant ones from the model.\n",
    "    * Does the model make sense?\n",
    "    * Does regularization help? \n",
    "    \n",
    "Answer the following questions for the logistic linear model:  \n",
    "    * Is the relationship significant?\n",
    "    * Are any model assumptions violated?  \n",
    "    * Cross-validate the model. How well did it do?\n",
    "    \n",
    "    \n"
   ]
  },
  {
   "cell_type": "markdown",
   "metadata": {},
   "source": [
    "Last update September 13, 2017"
   ]
  }
 ],
 "metadata": {
  "kernelspec": {
   "display_name": "Python 3",
   "language": "python",
   "name": "python3"
  },
  "language_info": {
   "codemirror_mode": {
    "name": "ipython",
    "version": 3
   },
   "file_extension": ".py",
   "mimetype": "text/x-python",
   "name": "python",
   "nbconvert_exporter": "python",
   "pygments_lexer": "ipython3",
   "version": "3.6.1"
  }
 },
 "nbformat": 4,
 "nbformat_minor": 2
}
