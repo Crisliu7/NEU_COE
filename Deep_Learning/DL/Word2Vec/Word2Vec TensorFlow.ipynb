{
 "cells": [
  {
   "cell_type": "markdown",
   "metadata": {},
   "source": [
    "## Word2Vec using Noise Contrastive Estimation and vizualization in t-SNE"
   ]
  },
  {
   "cell_type": "code",
   "execution_count": 18,
   "metadata": {
    "collapsed": true
   },
   "outputs": [],
   "source": [
    "import os\n",
    "from random import randint\n",
    "from collections import Counter\n",
    "os.environ['TF_CPP_MIN_LOG_LEVEL']='2'\n",
    "\n",
    "import zipfile\n",
    "\n",
    "import numpy as np\n",
    "import tensorflow as tf\n",
    "from tensorflow.contrib.tensorboard.plugins import projector"
   ]
  },
  {
   "cell_type": "code",
   "execution_count": 28,
   "metadata": {
    "collapsed": true
   },
   "outputs": [],
   "source": [
    "# Parameters for downloading data\n",
    "DOWNLOAD_URL = 'http://mattmahoney.net/dc/'\n",
    "EXPECTED_BYTES = 31344016\n",
    "DATA_FOLDER = './data/'\n",
    "FILE_NAME = 'text8.zip'"
   ]
  },
  {
   "cell_type": "code",
   "execution_count": 29,
   "metadata": {
    "collapsed": true
   },
   "outputs": [],
   "source": [
    "def download(file_name, expected_bytes):\n",
    "    \"\"\" Download the dataset text8 if it's not already downloaded \"\"\"\n",
    "    file_path = DATA_FOLDER + file_name\n",
    "    if os.path.exists(file_path):\n",
    "        print(\"Dataset ready\")\n",
    "        return file_path\n",
    "    file_name, _ = urllib.request.urlretrieve(DOWNLOAD_URL + file_name, file_path)\n",
    "    file_stat = os.stat(file_path)\n",
    "    if file_stat.st_size == expected_bytes:\n",
    "        print('Successfully downloaded the file', file_name)\n",
    "    else:\n",
    "        raise Exception('File ' + file_name +\n",
    "                        ' might be corrupted. You should try downloading it with a browser.')\n",
    "    return file_path"
   ]
  },
  {
   "cell_type": "code",
   "execution_count": 30,
   "metadata": {
    "collapsed": true
   },
   "outputs": [],
   "source": [
    "def read_data(file_path):\n",
    "    \"\"\" Read data into a list of tokens \n",
    "    There should be 17,005,207 tokens\n",
    "    \"\"\"\n",
    "    with zipfile.ZipFile(file_path) as f:\n",
    "        words = tf.compat.as_str(f.read(f.namelist()[0])).split() \n",
    "        # tf.compat.as_str() converts the input into the string\n",
    "    return words"
   ]
  },
  {
   "cell_type": "code",
   "execution_count": 20,
   "metadata": {},
   "outputs": [
    {
     "data": {
      "text/plain": [
       "['anarchism',\n",
       " 'originated',\n",
       " 'as',\n",
       " 'a',\n",
       " 'term',\n",
       " 'of',\n",
       " 'abuse',\n",
       " 'first',\n",
       " 'used',\n",
       " 'against']"
      ]
     },
     "execution_count": 20,
     "metadata": {},
     "output_type": "execute_result"
    }
   ],
   "source": [
    "# corpus = 'the quick brown fox jumped over the lazy dog'\n",
    "corpus = read_data(DATA_FOLDER + FILE_NAME)\n",
    "corpus[:10]"
   ]
  },
  {
   "cell_type": "code",
   "execution_count": 21,
   "metadata": {
    "collapsed": true
   },
   "outputs": [],
   "source": [
    "def build_vocab(words, vocab_size):\n",
    "    \"\"\" Build vocabulary of VOCAB_SIZE most frequent words \"\"\"\n",
    "    dictionary = dict()\n",
    "    count = [('UNK', -1)]\n",
    "    count.extend(Counter(words).most_common(vocab_size - 1))\n",
    "    index = 0\n",
    "    with open('vocabulary/vocab_1000.tsv', \"w\") as f:\n",
    "        for word, _ in count:\n",
    "            dictionary[word] = index\n",
    "            if index < 1000:\n",
    "                f.write(word + \"\\n\")\n",
    "            index += 1\n",
    "    index_dictionary = dict(zip(dictionary.values(), dictionary.keys()))\n",
    "    return dictionary, index_dictionary"
   ]
  },
  {
   "cell_type": "code",
   "execution_count": 22,
   "metadata": {
    "collapsed": true
   },
   "outputs": [],
   "source": [
    "vocabulary, reverse_vocabulary = build_vocab(corpus, 5000)"
   ]
  },
  {
   "cell_type": "code",
   "execution_count": 23,
   "metadata": {},
   "outputs": [
    {
     "data": {
      "text/plain": [
       "5000"
      ]
     },
     "execution_count": 23,
     "metadata": {},
     "output_type": "execute_result"
    }
   ],
   "source": [
    "len(vocabulary)"
   ]
  },
  {
   "cell_type": "code",
   "execution_count": 6,
   "metadata": {
    "collapsed": true
   },
   "outputs": [],
   "source": [
    "def index_words_in_corpus(corpus):\n",
    "    return [vocabulary[token] if token in vocabulary else 0 for token in corpus]"
   ]
  },
  {
   "cell_type": "code",
   "execution_count": 24,
   "metadata": {
    "collapsed": true
   },
   "outputs": [],
   "source": [
    "corpus = index_words_in_corpus(corpus)"
   ]
  },
  {
   "cell_type": "code",
   "execution_count": 25,
   "metadata": {
    "collapsed": true
   },
   "outputs": [],
   "source": [
    "def generate_sample(index_words, context_window_size):\n",
    "    \"\"\" Form training pairs according to the skip-gram model. \"\"\"\n",
    "    for index, center in enumerate(index_words):\n",
    "        context = randint(1, context_window_size)\n",
    "        # get a random target before the center word\n",
    "        for target in index_words[max(0, index - context): index]:\n",
    "            yield center, target\n",
    "        # get a random target after the center wrod\n",
    "        for target in index_words[index + 1: index + context + 1]:\n",
    "            yield center, target"
   ]
  },
  {
   "cell_type": "code",
   "execution_count": 26,
   "metadata": {
    "collapsed": true
   },
   "outputs": [],
   "source": [
    "# [_ for _ in generate_sample(corpus, 2)]"
   ]
  },
  {
   "cell_type": "code",
   "execution_count": 27,
   "metadata": {
    "collapsed": true
   },
   "outputs": [],
   "source": [
    "def get_batch(iterator, batch_size):\n",
    "    \"\"\" Group a numerical stream into batches and yield them as Numpy arrays. \"\"\"\n",
    "    while True:\n",
    "        center_batch = np.zeros(batch_size, dtype=np.int32)\n",
    "        target_batch = np.zeros([batch_size, 1], dtype=np.int32)\n",
    "        for index in range(batch_size):\n",
    "            center_batch[index], target_batch[index] = next(iterator)\n",
    "        yield center_batch, target_batch"
   ]
  },
  {
   "cell_type": "code",
   "execution_count": 11,
   "metadata": {
    "collapsed": true
   },
   "outputs": [],
   "source": [
    "# [_ for _ in get_batch(generate_sample(corpus, 1), 2)]"
   ]
  },
  {
   "cell_type": "code",
   "execution_count": 12,
   "metadata": {
    "collapsed": true
   },
   "outputs": [],
   "source": [
    "VOCAB_SIZE = 5000\n",
    "BATCH_SIZE = 32\n",
    "EMBED_SIZE = 10 # dimension of the word embedding vectors\n",
    "SKIP_WINDOW = 3 # the context window\n",
    "NUM_SAMPLED = 16    # Number of negative examples to sample.\n",
    "LEARNING_RATE = 1.0\n",
    "NUM_TRAIN_STEPS = 10000\n",
    "SKIP_STEP = 100 # how many steps to skip before reporting the loss"
   ]
  },
  {
   "cell_type": "code",
   "execution_count": 13,
   "metadata": {
    "collapsed": true
   },
   "outputs": [],
   "source": [
    "class SkipGramModel:\n",
    "    \"\"\" Build the graph for word2vec model \"\"\"\n",
    "    def __init__(self, vocab_size, embed_size, batch_size, num_sampled, learning_rate):\n",
    "        self.vocab_size = vocab_size\n",
    "        self.embed_size = embed_size\n",
    "        self.batch_size = batch_size\n",
    "        self.num_sampled = num_sampled\n",
    "        self.lr = learning_rate\n",
    "        self.global_step = tf.Variable(0, dtype=tf.int32, trainable=False, name='global_step')\n",
    "\n",
    "    def _create_placeholders(self):\n",
    "        \"\"\" Step 1: define the placeholders for input and output \"\"\"\n",
    "        with tf.name_scope(\"data\"):\n",
    "            self.center_words = tf.placeholder(tf.int32, shape=[self.batch_size], name='center_words')\n",
    "            self.target_words = tf.placeholder(tf.int32, shape=[self.batch_size, 1], name='target_words')\n",
    "\n",
    "    def _create_embedding(self):\n",
    "        \"\"\" Step 2: define weights. In word2vec, it's actually the weights that we care about \"\"\"\n",
    "        with tf.name_scope(\"embed\"):\n",
    "            self.embed_matrix = tf.Variable(tf.random_uniform([self.vocab_size, \n",
    "                                                                self.embed_size], -1.0, 1.0), \n",
    "                                                                name='embed_matrix')\n",
    "\n",
    "    def _create_loss(self):\n",
    "        \"\"\" Step 3 + 4: define the model + the loss function \"\"\"\n",
    "        with tf.name_scope(\"loss\"):\n",
    "            # Step 3: define the inference\n",
    "            embed = tf.nn.embedding_lookup(self.embed_matrix, self.center_words, name='embed')\n",
    "\n",
    "            # Step 4: define loss function\n",
    "            # construct variables for NCE loss\n",
    "            nce_weight = tf.Variable(tf.truncated_normal([self.vocab_size, self.embed_size],\n",
    "                                                        stddev=1.0 / (self.embed_size ** 0.5)), \n",
    "                                                        name='nce_weight')\n",
    "            nce_bias = tf.Variable(tf.zeros([VOCAB_SIZE]), name='nce_bias')\n",
    "\n",
    "            # define loss function to be NCE loss function\n",
    "            self.loss = tf.reduce_mean(tf.nn.nce_loss(weights=nce_weight, \n",
    "                                                biases=nce_bias, \n",
    "                                                labels=self.target_words, \n",
    "                                                inputs=embed, \n",
    "                                                num_sampled=self.num_sampled, \n",
    "                                                num_classes=self.vocab_size), name='loss')\n",
    "\n",
    "    def _create_optimizer(self):\n",
    "        \"\"\" Step 5: define optimizer \"\"\"\n",
    "        self.optimizer = tf.train.GradientDescentOptimizer(self.lr).minimize(self.loss, global_step=self.global_step)\n",
    "\n",
    "    def _create_summaries(self):\n",
    "        with tf.name_scope(\"summaries\"):\n",
    "            tf.summary.scalar(\"loss\", self.loss)\n",
    "            tf.summary.histogram(\"histogram_loss\", self.loss)\n",
    "            # because you have several summaries, we should merge them all\n",
    "            # into one op to make it easier to manage\n",
    "            self.summary_op = tf.summary.merge_all()\n",
    "\n",
    "    def build_graph(self):\n",
    "        \"\"\" Build the graph for our model \"\"\"\n",
    "        self._create_placeholders()\n",
    "        self._create_embedding()\n",
    "        self._create_loss()\n",
    "        self._create_optimizer()\n",
    "        self._create_summaries()\n",
    "\n",
    "def train_model(model, batch_gen, num_train_steps):\n",
    "    saver = tf.train.Saver() # defaults to saving all variables - in this case embed_matrix, nce_weight, nce_bias\n",
    "\n",
    "    initial_step = 0\n",
    "#     utils.make_dir('checkpoints')\n",
    "    with tf.Session() as sess:\n",
    "        sess.run(tf.global_variables_initializer())\n",
    "        ckpt = tf.train.get_checkpoint_state(os.path.dirname('./tf_checkpoints/checkpoint'))\n",
    "        # if that checkpoint exists, restore from checkpoint\n",
    "        if ckpt and ckpt.model_checkpoint_path:\n",
    "            saver.restore(sess, ckpt.model_checkpoint_path)\n",
    "\n",
    "        total_loss = 0.0 # we use this to calculate late average loss in the last SKIP_STEP steps\n",
    "        writer = tf.summary.FileWriter('./tf_graphs/lr' + str(LEARNING_RATE), sess.graph)\n",
    "        initial_step = model.global_step.eval()\n",
    "        for index in range(initial_step, initial_step + num_train_steps):\n",
    "            centers, targets = next(batch_gen)\n",
    "            feed_dict={model.center_words: centers, model.target_words: targets}\n",
    "            loss_batch, _, summary = sess.run([model.loss, model.optimizer, model.summary_op], \n",
    "                                              feed_dict=feed_dict)\n",
    "            writer.add_summary(summary, global_step=index)\n",
    "            total_loss += loss_batch\n",
    "            if (index + 1) % SKIP_STEP == 0:\n",
    "                print('Average loss at step {}: {:5.1f}'.format(index, total_loss / SKIP_STEP))\n",
    "                total_loss = 0.0\n",
    "                saver.save(sess, './tf_checkpoints/skip-gram', index)\n",
    "        \n",
    "        ####################\n",
    "        # code to visualize the embeddings. uncomment the below to visualize embeddings\n",
    "        # run \"'tensorboard --logdir='processed'\" to see the embeddings\n",
    "        final_embed_matrix = sess.run(model.embed_matrix)\n",
    "        \n",
    "        # it has to variable. constants don't work here. you can't reuse model.embed_matrix\n",
    "        embedding_var = tf.Variable(final_embed_matrix[:1000], name='embedding')\n",
    "        sess.run(embedding_var.initializer)\n",
    "\n",
    "        config = projector.ProjectorConfig()\n",
    "        summary_writer = tf.summary.FileWriter('./processed')\n",
    "\n",
    "        # add embedding to the config file\n",
    "        embedding = config.embeddings.add()\n",
    "        embedding.tensor_name = embedding_var.name\n",
    "        \n",
    "        # link this tensor to its metadata file, in this case the first 500 words of vocab\n",
    "        embedding.metadata_path = './vocabulary/vocab_1000.tsv'\n",
    "\n",
    "        # saves a configuration file that TensorBoard will read during startup.\n",
    "        projector.visualize_embeddings(summary_writer, config)\n",
    "        saver_embed = tf.train.Saver([embedding_var])\n",
    "        saver_embed.save(sess, './processed/model3.ckpt', 1)"
   ]
  },
  {
   "cell_type": "code",
   "execution_count": 14,
   "metadata": {
    "collapsed": true
   },
   "outputs": [],
   "source": [
    "model = SkipGramModel(VOCAB_SIZE, EMBED_SIZE, BATCH_SIZE, NUM_SAMPLED, LEARNING_RATE)\n",
    "model.build_graph()\n",
    "batch_generator = get_batch(generate_sample(corpus, SKIP_WINDOW), BATCH_SIZE)"
   ]
  },
  {
   "cell_type": "code",
   "execution_count": 15,
   "metadata": {},
   "outputs": [
    {
     "name": "stdout",
     "output_type": "stream",
     "text": [
      "Average loss at step 99:  52.0\n",
      "Average loss at step 199:  39.2\n",
      "Average loss at step 299:  33.6\n",
      "Average loss at step 399:  26.9\n",
      "Average loss at step 499:  27.0\n",
      "Average loss at step 599:  22.8\n",
      "Average loss at step 699:  21.7\n",
      "Average loss at step 799:  20.5\n",
      "Average loss at step 899:  19.6\n",
      "Average loss at step 999:  20.0\n",
      "Average loss at step 1099:  16.9\n",
      "Average loss at step 1199:  16.4\n",
      "Average loss at step 1299:  15.1\n",
      "Average loss at step 1399:  14.3\n",
      "Average loss at step 1499:  13.2\n",
      "Average loss at step 1599:  13.7\n",
      "Average loss at step 1699:  14.1\n",
      "Average loss at step 1799:  11.8\n",
      "Average loss at step 1899:  11.0\n",
      "Average loss at step 1999:  11.7\n",
      "Average loss at step 2099:  10.2\n",
      "Average loss at step 2199:  12.0\n",
      "Average loss at step 2299:  11.1\n",
      "Average loss at step 2399:  12.3\n",
      "Average loss at step 2499:  10.1\n",
      "Average loss at step 2599:   9.4\n",
      "Average loss at step 2699:   8.7\n",
      "Average loss at step 2799:   7.9\n",
      "Average loss at step 2899:   8.6\n",
      "Average loss at step 2999:   9.2\n",
      "Average loss at step 3099:   7.8\n",
      "Average loss at step 3199:   7.4\n",
      "Average loss at step 3299:   7.0\n",
      "Average loss at step 3399:   7.2\n",
      "Average loss at step 3499:   6.7\n",
      "Average loss at step 3599:   7.7\n",
      "Average loss at step 3699:   6.3\n",
      "Average loss at step 3799:   7.3\n",
      "Average loss at step 3899:   6.5\n",
      "Average loss at step 3999:   7.3\n",
      "Average loss at step 4099:   6.4\n",
      "Average loss at step 4199:   6.2\n",
      "Average loss at step 4299:   6.4\n",
      "Average loss at step 4399:   6.0\n",
      "Average loss at step 4499:   5.7\n",
      "Average loss at step 4599:   6.2\n",
      "Average loss at step 4699:   5.6\n",
      "Average loss at step 4799:   5.9\n",
      "Average loss at step 4899:   6.3\n",
      "Average loss at step 4999:   6.3\n",
      "Average loss at step 5099:   5.5\n",
      "Average loss at step 5199:   6.0\n",
      "Average loss at step 5299:   5.7\n",
      "Average loss at step 5399:   5.5\n",
      "Average loss at step 5499:   5.2\n",
      "Average loss at step 5599:   4.5\n",
      "Average loss at step 5699:   5.0\n",
      "Average loss at step 5799:   5.2\n",
      "Average loss at step 5899:   5.2\n",
      "Average loss at step 5999:   5.5\n",
      "Average loss at step 6099:   5.7\n",
      "Average loss at step 6199:   5.3\n",
      "Average loss at step 6299:   5.4\n",
      "Average loss at step 6399:   5.0\n",
      "Average loss at step 6499:   5.6\n",
      "Average loss at step 6599:   4.6\n",
      "Average loss at step 6699:   5.7\n",
      "Average loss at step 6799:   5.0\n",
      "Average loss at step 6899:   5.1\n",
      "Average loss at step 6999:   4.9\n",
      "Average loss at step 7099:   4.6\n",
      "Average loss at step 7199:   4.5\n",
      "Average loss at step 7299:   4.5\n",
      "Average loss at step 7399:   4.5\n",
      "Average loss at step 7499:   4.5\n",
      "Average loss at step 7599:   4.8\n",
      "Average loss at step 7699:   4.7\n",
      "Average loss at step 7799:   4.3\n",
      "Average loss at step 7899:   4.6\n",
      "Average loss at step 7999:   4.3\n",
      "Average loss at step 8099:   4.4\n",
      "Average loss at step 8199:   4.2\n",
      "Average loss at step 8299:   4.2\n",
      "Average loss at step 8399:   4.6\n",
      "Average loss at step 8499:   4.4\n",
      "Average loss at step 8599:   4.5\n",
      "Average loss at step 8699:   4.3\n",
      "Average loss at step 8799:   4.4\n",
      "Average loss at step 8899:   4.3\n",
      "Average loss at step 8999:   4.6\n",
      "Average loss at step 9099:   4.1\n",
      "Average loss at step 9199:   4.2\n",
      "Average loss at step 9299:   4.3\n",
      "Average loss at step 9399:   5.0\n",
      "Average loss at step 9499:   4.1\n",
      "Average loss at step 9599:   4.3\n",
      "Average loss at step 9699:   4.0\n",
      "Average loss at step 9799:   4.5\n",
      "Average loss at step 9899:   4.6\n",
      "Average loss at step 9999:   4.6\n"
     ]
    }
   ],
   "source": [
    "train_model(model, batch_generator, NUM_TRAIN_STEPS)"
   ]
  },
  {
   "cell_type": "code",
   "execution_count": null,
   "metadata": {
    "collapsed": true
   },
   "outputs": [],
   "source": []
  }
 ],
 "metadata": {
  "anaconda-cloud": {},
  "kernelspec": {
   "display_name": "Python [conda root]",
   "language": "python",
   "name": "conda-root-py"
  },
  "language_info": {
   "codemirror_mode": {
    "name": "ipython",
    "version": 3
   },
   "file_extension": ".py",
   "mimetype": "text/x-python",
   "name": "python",
   "nbconvert_exporter": "python",
   "pygments_lexer": "ipython3",
   "version": "3.5.4"
  }
 },
 "nbformat": 4,
 "nbformat_minor": 2
}
