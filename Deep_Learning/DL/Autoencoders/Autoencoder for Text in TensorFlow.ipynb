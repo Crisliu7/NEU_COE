{
 "cells": [
  {
   "cell_type": "markdown",
   "metadata": {},
   "source": [
    "### Unsupervised dimensionality reduction using a 1 Hidden-layer perceptron where label == ground truth\n",
    "### For NLP, we can say somewhat say that word2vec and autoencoders are similiar.\n",
    "\n",
    "> Dimensionality reduction works only if the inputs are correlated (like images from the same domain). It fails if we pass in completely random inputs each time we train an autoencoder. So in the end, an autoencoder can produce lower dimensional output (at the encoder) given an input much like Principal Component Analysis (PCA). And since we don’t have to use any labels during training, it’s an unsupervised model as well."
   ]
  },
  {
   "cell_type": "code",
   "execution_count": 27,
   "metadata": {
    "collapsed": true
   },
   "outputs": [],
   "source": [
    "import os\n",
    "from random import randint\n",
    "from collections import Counter\n",
    "os.environ['TF_CPP_MIN_LOG_LEVEL']='2'\n",
    "\n",
    "import numpy as np\n",
    "import tensorflow as tf"
   ]
  },
  {
   "cell_type": "code",
   "execution_count": 28,
   "metadata": {},
   "outputs": [
    {
     "data": {
      "text/plain": [
       "['the',\n",
       " 'quick',\n",
       " 'brown',\n",
       " 'fox',\n",
       " 'jumped',\n",
       " 'over',\n",
       " 'the',\n",
       " 'lazy',\n",
       " 'dog',\n",
       " 'from']"
      ]
     },
     "execution_count": 28,
     "metadata": {},
     "output_type": "execute_result"
    }
   ],
   "source": [
    "corpus = \"the quick brown fox jumped over the lazy dog from the quick tall fox\".split()\n",
    "test_corpus = \"the quick brown fox jumped over the lazy dog from the quick tall fox\".split()\n",
    "corpus[:10]"
   ]
  },
  {
   "cell_type": "code",
   "execution_count": 29,
   "metadata": {
    "collapsed": true
   },
   "outputs": [],
   "source": [
    "def build_vocab(words, vocab_size):\n",
    "    \"\"\" Build vocabulary of VOCAB_SIZE most frequent words \"\"\"\n",
    "    dictionary = dict()\n",
    "    count = [('UNK', -1)]\n",
    "    count.extend(Counter(words).most_common(vocab_size - 1))\n",
    "    index = 0\n",
    "    for word, _ in count:\n",
    "        dictionary[word] = index\n",
    "        index += 1\n",
    "    index_dictionary = dict(zip(dictionary.values(), dictionary.keys()))\n",
    "    return dictionary, index_dictionary"
   ]
  },
  {
   "cell_type": "code",
   "execution_count": 30,
   "metadata": {
    "collapsed": true
   },
   "outputs": [],
   "source": [
    "vocabulary, reverse_vocabulary = build_vocab(corpus, 100)"
   ]
  },
  {
   "cell_type": "code",
   "execution_count": 31,
   "metadata": {
    "scrolled": true
   },
   "outputs": [
    {
     "data": {
      "text/plain": [
       "{'UNK': 0,\n",
       " 'brown': 4,\n",
       " 'dog': 8,\n",
       " 'fox': 3,\n",
       " 'from': 9,\n",
       " 'jumped': 5,\n",
       " 'lazy': 7,\n",
       " 'over': 6,\n",
       " 'quick': 2,\n",
       " 'tall': 10,\n",
       " 'the': 1}"
      ]
     },
     "execution_count": 31,
     "metadata": {},
     "output_type": "execute_result"
    }
   ],
   "source": [
    "vocabulary"
   ]
  },
  {
   "cell_type": "code",
   "execution_count": 32,
   "metadata": {
    "collapsed": true
   },
   "outputs": [],
   "source": [
    "def index_words_in_corpus(corpus):\n",
    "    return [vocabulary[token] if token in vocabulary else 0 for token in corpus]"
   ]
  },
  {
   "cell_type": "code",
   "execution_count": 33,
   "metadata": {
    "collapsed": true
   },
   "outputs": [],
   "source": [
    "corpus = index_words_in_corpus(corpus)\n",
    "test_corpus = index_words_in_corpus(test_corpus)"
   ]
  },
  {
   "cell_type": "code",
   "execution_count": 34,
   "metadata": {},
   "outputs": [
    {
     "data": {
      "text/plain": [
       "[1, 2, 4, 3, 5, 6, 1, 7, 8, 9, 1, 2, 10, 3]"
      ]
     },
     "execution_count": 34,
     "metadata": {},
     "output_type": "execute_result"
    }
   ],
   "source": [
    "test_corpus"
   ]
  },
  {
   "cell_type": "code",
   "execution_count": 35,
   "metadata": {},
   "outputs": [
    {
     "data": {
      "text/plain": [
       "11"
      ]
     },
     "execution_count": 35,
     "metadata": {},
     "output_type": "execute_result"
    }
   ],
   "source": [
    "vocabulary_size = len(vocabulary)\n",
    "vocabulary_size"
   ]
  },
  {
   "cell_type": "code",
   "execution_count": 36,
   "metadata": {
    "collapsed": true
   },
   "outputs": [],
   "source": [
    "def one_hot_encode(index):\n",
    "    row = np.zeros(vocabulary_size, dtype=np.int32)\n",
    "    row[index] = 1\n",
    "    return row"
   ]
  },
  {
   "cell_type": "code",
   "execution_count": 37,
   "metadata": {
    "collapsed": true
   },
   "outputs": [],
   "source": [
    "data = np.array([one_hot_encode(i) for i in corpus])\n",
    "test_data = np.array([one_hot_encode(i) for i in test_corpus])"
   ]
  },
  {
   "cell_type": "code",
   "execution_count": 38,
   "metadata": {},
   "outputs": [
    {
     "name": "stdout",
     "output_type": "stream",
     "text": [
      "(TRAIN: Total number of words, Vocabulary size): (14, 11)\n",
      "(TEST:  Total number of words, Vocabulary size): (14, 11)\n"
     ]
    }
   ],
   "source": [
    "print(\"(TRAIN: Total number of words, Vocabulary size):\", data.shape)\n",
    "print(\"(TEST:  Total number of words, Vocabulary size):\", test_data.shape)"
   ]
  },
  {
   "cell_type": "code",
   "execution_count": 41,
   "metadata": {},
   "outputs": [
    {
     "data": {
      "text/plain": [
       "array([0, 0, 0, 0, 0, 1, 0, 0, 0, 0, 0], dtype=int32)"
      ]
     },
     "execution_count": 41,
     "metadata": {},
     "output_type": "execute_result"
    }
   ],
   "source": [
    "data[randint(1, data.shape[0]-1)]"
   ]
  },
  {
   "cell_type": "code",
   "execution_count": 42,
   "metadata": {
    "collapsed": true
   },
   "outputs": [],
   "source": [
    "X = tf.placeholder(tf.float32, shape=(None, vocabulary_size))\n",
    "Y = tf.placeholder(tf.float32, shape=(None, vocabulary_size))"
   ]
  },
  {
   "cell_type": "code",
   "execution_count": 43,
   "metadata": {
    "collapsed": true
   },
   "outputs": [],
   "source": [
    "w1 = tf.Variable(tf.random_normal(shape=(vocabulary_size, 1000), stddev=0.01), name='weights1')\n",
    "b1 = tf.Variable(tf.zeros([1, 1000]), name=\"bias1\")\n",
    "layer1 = tf.nn.relu(tf.add(tf.matmul(X, w1), b1))\n",
    "\n",
    "w2 = tf.Variable(tf.random_normal(shape=(1000, 250), stddev=0.01), name='weights2')\n",
    "b2 = tf.Variable(tf.zeros([1, 250]), name=\"bias2\")\n",
    "layer2 = tf.nn.relu(tf.add(tf.matmul(layer1, w2), b2))\n",
    "\n",
    "w = tf.Variable(tf.random_normal(shape=(250, 50), stddev=0.01), name='weights')\n",
    "b = tf.Variable(tf.zeros([1, 50]), name=\"bias\")\n",
    "code = tf.nn.relu(tf.add(tf.matmul(layer2, w), b))\n",
    "\n",
    "w3 = tf.Variable(tf.random_normal(shape=(50, 250), stddev=0.01), name='weights3')\n",
    "b3 = tf.Variable(tf.zeros([1, 250]), name=\"bias3\")\n",
    "layer3 = tf.nn.relu(tf.add(tf.matmul(code, w3), b3))\n",
    "\n",
    "w4 = tf.Variable(tf.random_normal(shape=(250, 1000), stddev=0.01), name='weights4')\n",
    "b4 = tf.Variable(tf.zeros([1, 1000]), name=\"bias4\")\n",
    "layer4 = tf.nn.relu(tf.add(tf.matmul(layer3, w4), b4))\n",
    "\n",
    "w5 = tf.Variable(tf.random_normal(shape=(1000, vocabulary_size), stddev=0.01), name='weights5')\n",
    "b5 = tf.Variable(tf.zeros([1, vocabulary_size]), name=\"bias5\")\n",
    "decoder = tf.nn.sigmoid(tf.add(tf.matmul(layer4, w5), b5))"
   ]
  },
  {
   "cell_type": "code",
   "execution_count": 44,
   "metadata": {
    "collapsed": true
   },
   "outputs": [],
   "source": [
    "# entropy = tf.nn.softmax_cross_entropy_with_logits(logits=decoder, labels=Y)\n",
    "loss = tf.reduce_mean(tf.pow(X - decoder, 2))"
   ]
  },
  {
   "cell_type": "code",
   "execution_count": 45,
   "metadata": {},
   "outputs": [],
   "source": [
    "LEARNING_RATE = 0.01\n",
    "optimizer = tf.train.RMSPropOptimizer(learning_rate=LEARNING_RATE).minimize(loss)\n",
    "init = tf.global_variables_initializer()"
   ]
  },
  {
   "cell_type": "code",
   "execution_count": 46,
   "metadata": {
    "collapsed": true
   },
   "outputs": [],
   "source": [
    "\n",
    "NUM_TRAIN_STEPS = 1000\n",
    "SKIP_STEP = 10 # how many steps to skip before reporting the loss"
   ]
  },
  {
   "cell_type": "code",
   "execution_count": 47,
   "metadata": {
    "scrolled": true
   },
   "outputs": [
    {
     "name": "stdout",
     "output_type": "stream",
     "text": [
      "EPOCH 0/1000, LOSS 0.25\n",
      "EPOCH 10/1000, LOSS 0.2494572252035141\n",
      "EPOCH 20/1000, LOSS 0.24854058027267456\n",
      "EPOCH 30/1000, LOSS 0.24700184166431427\n",
      "EPOCH 40/1000, LOSS 0.24444027245044708\n",
      "EPOCH 50/1000, LOSS 0.24024827778339386\n",
      "EPOCH 60/1000, LOSS 0.23362566530704498\n",
      "EPOCH 70/1000, LOSS 0.22383129596710205\n",
      "EPOCH 80/1000, LOSS 0.2106136977672577\n",
      "EPOCH 90/1000, LOSS 0.1934209018945694\n",
      "EPOCH 100/1000, LOSS 0.16473940014839172\n",
      "EPOCH 110/1000, LOSS 0.10684426873922348\n",
      "EPOCH 120/1000, LOSS 0.08202390372753143\n",
      "EPOCH 130/1000, LOSS 0.08009893447160721\n",
      "EPOCH 140/1000, LOSS 0.07989192754030228\n",
      "EPOCH 150/1000, LOSS 0.07984042167663574\n",
      "EPOCH 160/1000, LOSS 0.07981313019990921\n",
      "EPOCH 170/1000, LOSS 0.07979805767536163\n",
      "EPOCH 180/1000, LOSS 0.08045154809951782\n",
      "EPOCH 190/1000, LOSS 0.08049511909484863\n",
      "EPOCH 200/1000, LOSS 0.08030319958925247\n",
      "EPOCH 210/1000, LOSS 0.08018342405557632\n",
      "EPOCH 220/1000, LOSS 0.08013363927602768\n",
      "EPOCH 230/1000, LOSS 0.0801125019788742\n",
      "EPOCH 240/1000, LOSS 0.08009006083011627\n",
      "EPOCH 250/1000, LOSS 0.08006803691387177\n",
      "EPOCH 260/1000, LOSS 0.08005096018314362\n",
      "EPOCH 270/1000, LOSS 0.08002946525812149\n",
      "EPOCH 280/1000, LOSS 0.08001402765512466\n",
      "EPOCH 290/1000, LOSS 0.08000130206346512\n",
      "EPOCH 300/1000, LOSS 0.07999026030302048\n",
      "EPOCH 310/1000, LOSS 0.07997724413871765\n",
      "EPOCH 320/1000, LOSS 0.07996751368045807\n",
      "EPOCH 330/1000, LOSS 0.07995911687612534\n",
      "EPOCH 340/1000, LOSS 0.07995141297578812\n",
      "EPOCH 350/1000, LOSS 0.07994452118873596\n",
      "EPOCH 360/1000, LOSS 0.07993826270103455\n",
      "EPOCH 370/1000, LOSS 0.07993224263191223\n",
      "EPOCH 380/1000, LOSS 0.07993060350418091\n",
      "EPOCH 390/1000, LOSS 0.07992159575223923\n",
      "EPOCH 400/1000, LOSS 0.07991534471511841\n",
      "EPOCH 410/1000, LOSS 0.07991152256727219\n",
      "EPOCH 420/1000, LOSS 0.07990729063749313\n",
      "EPOCH 430/1000, LOSS 0.07990313321352005\n",
      "EPOCH 440/1000, LOSS 0.07989943772554398\n",
      "EPOCH 450/1000, LOSS 0.07989608496427536\n",
      "EPOCH 460/1000, LOSS 0.07989291101694107\n",
      "EPOCH 470/1000, LOSS 0.07988982647657394\n",
      "EPOCH 480/1000, LOSS 0.07988680154085159\n",
      "EPOCH 490/1000, LOSS 0.07988392561674118\n",
      "EPOCH 500/1000, LOSS 0.07988131791353226\n",
      "EPOCH 510/1000, LOSS 0.07987886667251587\n",
      "EPOCH 520/1000, LOSS 0.07987644523382187\n",
      "EPOCH 530/1000, LOSS 0.07987407594919205\n",
      "EPOCH 540/1000, LOSS 0.07987194508314133\n",
      "EPOCH 550/1000, LOSS 0.07986925542354584\n",
      "EPOCH 560/1000, LOSS 0.07986921072006226\n",
      "EPOCH 570/1000, LOSS 0.07986482977867126\n",
      "EPOCH 580/1000, LOSS 0.07986287772655487\n",
      "EPOCH 590/1000, LOSS 0.07986143976449966\n",
      "EPOCH 600/1000, LOSS 0.07985930144786835\n",
      "EPOCH 610/1000, LOSS 0.0798572227358818\n",
      "EPOCH 620/1000, LOSS 0.07985538989305496\n",
      "EPOCH 630/1000, LOSS 0.0798536166548729\n",
      "EPOCH 640/1000, LOSS 0.0798519030213356\n",
      "EPOCH 650/1000, LOSS 0.07985031604766846\n",
      "EPOCH 660/1000, LOSS 0.07984881848096848\n",
      "EPOCH 670/1000, LOSS 0.07984741032123566\n",
      "EPOCH 680/1000, LOSS 0.07984609156847\n",
      "EPOCH 690/1000, LOSS 0.07984478771686554\n",
      "EPOCH 700/1000, LOSS 0.07984349876642227\n",
      "EPOCH 710/1000, LOSS 0.07984254509210587\n",
      "EPOCH 720/1000, LOSS 0.07983894646167755\n",
      "EPOCH 730/1000, LOSS 0.07983999699354172\n",
      "EPOCH 740/1000, LOSS 0.07983965426683426\n",
      "EPOCH 750/1000, LOSS 0.07983727008104324\n",
      "EPOCH 760/1000, LOSS 0.07983624190092087\n",
      "EPOCH 770/1000, LOSS 0.07983563840389252\n",
      "EPOCH 780/1000, LOSS 0.07983455061912537\n",
      "EPOCH 790/1000, LOSS 0.07983328402042389\n",
      "EPOCH 800/1000, LOSS 0.07983225584030151\n",
      "EPOCH 810/1000, LOSS 0.07983134686946869\n",
      "EPOCH 820/1000, LOSS 0.07982908934354782\n",
      "EPOCH 830/1000, LOSS 0.07982960343360901\n",
      "EPOCH 840/1000, LOSS 0.07983025163412094\n",
      "EPOCH 850/1000, LOSS 0.07982859015464783\n",
      "EPOCH 860/1000, LOSS 0.07982781529426575\n",
      "EPOCH 870/1000, LOSS 0.0798274353146553\n",
      "EPOCH 880/1000, LOSS 0.079826720058918\n",
      "EPOCH 890/1000, LOSS 0.07982601225376129\n",
      "EPOCH 900/1000, LOSS 0.07982545346021652\n",
      "EPOCH 910/1000, LOSS 0.07982487231492996\n",
      "EPOCH 920/1000, LOSS 0.0798243060708046\n",
      "EPOCH 930/1000, LOSS 0.07982373982667923\n",
      "EPOCH 940/1000, LOSS 0.07982318103313446\n",
      "EPOCH 950/1000, LOSS 0.07982270419597626\n",
      "EPOCH 960/1000, LOSS 0.07982215285301208\n",
      "EPOCH 970/1000, LOSS 0.07982159405946732\n",
      "EPOCH 980/1000, LOSS 0.07982177287340164\n",
      "EPOCH 990/1000, LOSS 0.07981910556554794\n"
     ]
    }
   ],
   "source": [
    "with tf.Session() as sess:\n",
    "    sess.run(init)\n",
    "    \n",
    "    for i in range(NUM_TRAIN_STEPS):\n",
    "        _, loss_val = sess.run([optimizer, loss], feed_dict={X: data})\n",
    "            \n",
    "        if i % SKIP_STEP == 0:\n",
    "                print(\"EPOCH {}/{}, LOSS {}\".format(i , NUM_TRAIN_STEPS, loss_val))\n",
    "                \n",
    "    test_data_compressed = sess.run(decoder, feed_dict={X: test_data})\n",
    "#     np.save(outfile, test_data_compressed)\n",
    "        "
   ]
  },
  {
   "cell_type": "code",
   "execution_count": 48,
   "metadata": {},
   "outputs": [
    {
     "data": {
      "text/plain": [
       "(14, 11)"
      ]
     },
     "execution_count": 48,
     "metadata": {},
     "output_type": "execute_result"
    }
   ],
   "source": [
    "test_data_compressed.shape"
   ]
  },
  {
   "cell_type": "code",
   "execution_count": 49,
   "metadata": {},
   "outputs": [
    {
     "data": {
      "text/plain": [
       "array([[ 0.00196448,  0.20408842,  0.13413024,  0.13414782,  0.06589694,\n",
       "         0.06589296,  0.06589328,  0.06589003,  0.06589994,  0.06592028,\n",
       "         0.0659008 ],\n",
       "       [ 0.00196448,  0.20408842,  0.13413024,  0.13414782,  0.06589694,\n",
       "         0.06589296,  0.06589328,  0.06589003,  0.06589994,  0.06592028,\n",
       "         0.0659008 ],\n",
       "       [ 0.00196448,  0.20408842,  0.13413024,  0.13414782,  0.06589694,\n",
       "         0.06589296,  0.06589328,  0.06589003,  0.06589994,  0.06592028,\n",
       "         0.0659008 ],\n",
       "       [ 0.00196448,  0.20408842,  0.13413024,  0.13414782,  0.06589694,\n",
       "         0.06589296,  0.06589328,  0.06589003,  0.06589994,  0.06592028,\n",
       "         0.0659008 ],\n",
       "       [ 0.00196448,  0.20408842,  0.13413024,  0.13414782,  0.06589694,\n",
       "         0.06589296,  0.06589328,  0.06589003,  0.06589994,  0.06592028,\n",
       "         0.0659008 ],\n",
       "       [ 0.00196448,  0.20408842,  0.13413024,  0.13414782,  0.06589694,\n",
       "         0.06589296,  0.06589328,  0.06589003,  0.06589994,  0.06592028,\n",
       "         0.0659008 ],\n",
       "       [ 0.00196448,  0.20408842,  0.13413024,  0.13414782,  0.06589694,\n",
       "         0.06589296,  0.06589328,  0.06589003,  0.06589994,  0.06592028,\n",
       "         0.0659008 ],\n",
       "       [ 0.00196448,  0.20408842,  0.13413024,  0.13414782,  0.06589694,\n",
       "         0.06589296,  0.06589328,  0.06589003,  0.06589994,  0.06592028,\n",
       "         0.0659008 ],\n",
       "       [ 0.00196448,  0.20408842,  0.13413024,  0.13414782,  0.06589694,\n",
       "         0.06589296,  0.06589328,  0.06589003,  0.06589994,  0.06592028,\n",
       "         0.0659008 ],\n",
       "       [ 0.00196448,  0.20408842,  0.13413024,  0.13414782,  0.06589694,\n",
       "         0.06589296,  0.06589328,  0.06589003,  0.06589994,  0.06592028,\n",
       "         0.0659008 ],\n",
       "       [ 0.00196448,  0.20408842,  0.13413024,  0.13414782,  0.06589694,\n",
       "         0.06589296,  0.06589328,  0.06589003,  0.06589994,  0.06592028,\n",
       "         0.0659008 ],\n",
       "       [ 0.00196448,  0.20408842,  0.13413024,  0.13414782,  0.06589694,\n",
       "         0.06589296,  0.06589328,  0.06589003,  0.06589994,  0.06592028,\n",
       "         0.0659008 ],\n",
       "       [ 0.00196448,  0.20408842,  0.13413024,  0.13414782,  0.06589694,\n",
       "         0.06589296,  0.06589328,  0.06589003,  0.06589994,  0.06592029,\n",
       "         0.0659008 ],\n",
       "       [ 0.00196448,  0.20408842,  0.13413024,  0.13414782,  0.06589694,\n",
       "         0.06589296,  0.06589328,  0.06589003,  0.06589994,  0.06592029,\n",
       "         0.0659008 ]], dtype=float32)"
      ]
     },
     "execution_count": 49,
     "metadata": {},
     "output_type": "execute_result"
    }
   ],
   "source": [
    "test_data_compressed"
   ]
  },
  {
   "cell_type": "markdown",
   "metadata": {},
   "source": [
    "### Since our compressed data is in probabilities, we'll convert  to whole nums to look up words"
   ]
  },
  {
   "cell_type": "code",
   "execution_count": 50,
   "metadata": {
    "collapsed": true
   },
   "outputs": [],
   "source": [
    "test_data_compressed[test_data_compressed>0] = 1"
   ]
  },
  {
   "cell_type": "code",
   "execution_count": 51,
   "metadata": {},
   "outputs": [
    {
     "data": {
      "text/plain": [
       "array([[ 1.,  1.,  1.,  1.,  1.,  1.,  1.,  1.,  1.,  1.,  1.],\n",
       "       [ 1.,  1.,  1.,  1.,  1.,  1.,  1.,  1.,  1.,  1.,  1.],\n",
       "       [ 1.,  1.,  1.,  1.,  1.,  1.,  1.,  1.,  1.,  1.,  1.],\n",
       "       [ 1.,  1.,  1.,  1.,  1.,  1.,  1.,  1.,  1.,  1.,  1.],\n",
       "       [ 1.,  1.,  1.,  1.,  1.,  1.,  1.,  1.,  1.,  1.,  1.],\n",
       "       [ 1.,  1.,  1.,  1.,  1.,  1.,  1.,  1.,  1.,  1.,  1.],\n",
       "       [ 1.,  1.,  1.,  1.,  1.,  1.,  1.,  1.,  1.,  1.,  1.],\n",
       "       [ 1.,  1.,  1.,  1.,  1.,  1.,  1.,  1.,  1.,  1.,  1.],\n",
       "       [ 1.,  1.,  1.,  1.,  1.,  1.,  1.,  1.,  1.,  1.,  1.],\n",
       "       [ 1.,  1.,  1.,  1.,  1.,  1.,  1.,  1.,  1.,  1.,  1.],\n",
       "       [ 1.,  1.,  1.,  1.,  1.,  1.,  1.,  1.,  1.,  1.,  1.],\n",
       "       [ 1.,  1.,  1.,  1.,  1.,  1.,  1.,  1.,  1.,  1.,  1.],\n",
       "       [ 1.,  1.,  1.,  1.,  1.,  1.,  1.,  1.,  1.,  1.,  1.],\n",
       "       [ 1.,  1.,  1.,  1.,  1.,  1.,  1.,  1.,  1.,  1.,  1.]], dtype=float32)"
      ]
     },
     "execution_count": 51,
     "metadata": {},
     "output_type": "execute_result"
    }
   ],
   "source": [
    "test_data_compressed"
   ]
  },
  {
   "cell_type": "code",
   "execution_count": 52,
   "metadata": {},
   "outputs": [
    {
     "data": {
      "text/plain": [
       "array([[0, 1, 0, 0, 0, 0, 0, 0, 0, 0, 0],\n",
       "       [0, 0, 1, 0, 0, 0, 0, 0, 0, 0, 0],\n",
       "       [0, 0, 0, 0, 1, 0, 0, 0, 0, 0, 0],\n",
       "       [0, 0, 0, 1, 0, 0, 0, 0, 0, 0, 0],\n",
       "       [0, 0, 0, 0, 0, 1, 0, 0, 0, 0, 0],\n",
       "       [0, 0, 0, 0, 0, 0, 1, 0, 0, 0, 0],\n",
       "       [0, 1, 0, 0, 0, 0, 0, 0, 0, 0, 0],\n",
       "       [0, 0, 0, 0, 0, 0, 0, 1, 0, 0, 0],\n",
       "       [0, 0, 0, 0, 0, 0, 0, 0, 1, 0, 0],\n",
       "       [0, 0, 0, 0, 0, 0, 0, 0, 0, 1, 0],\n",
       "       [0, 1, 0, 0, 0, 0, 0, 0, 0, 0, 0],\n",
       "       [0, 0, 1, 0, 0, 0, 0, 0, 0, 0, 0],\n",
       "       [0, 0, 0, 0, 0, 0, 0, 0, 0, 0, 1],\n",
       "       [0, 0, 0, 1, 0, 0, 0, 0, 0, 0, 0]], dtype=int32)"
      ]
     },
     "execution_count": 52,
     "metadata": {},
     "output_type": "execute_result"
    }
   ],
   "source": [
    "test_data"
   ]
  },
  {
   "cell_type": "markdown",
   "metadata": {},
   "source": [
    "### Tadaa!!! And here's our prediction\n",
    "This show's how well our compression is able to recover data\n",
    "> Remember that Autoencoders are lossy compression which means you will never be able to full reconstruct that data"
   ]
  },
  {
   "cell_type": "code",
   "execution_count": 53,
   "metadata": {},
   "outputs": [
    {
     "name": "stdout",
     "output_type": "stream",
     "text": [
      "UNK the quick fox brown jumped over lazy dog from tall\n"
     ]
    }
   ],
   "source": [
    "sent = np.ndarray.tolist(test_data_compressed)[0]\n",
    "print(' '.join([reverse_vocabulary[i] if sent[i] == 1. else \"\" for i in range(len(sent))]))"
   ]
  }
 ],
 "metadata": {
  "anaconda-cloud": {},
  "kernelspec": {
   "display_name": "Python 3",
   "language": "python",
   "name": "python3"
  },
  "language_info": {
   "codemirror_mode": {
    "name": "ipython",
    "version": 3
   },
   "file_extension": ".py",
   "mimetype": "text/x-python",
   "name": "python",
   "nbconvert_exporter": "python",
   "pygments_lexer": "ipython3",
   "version": "3.6.1"
  }
 },
 "nbformat": 4,
 "nbformat_minor": 2
}
