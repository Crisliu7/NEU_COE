{
 "cells": [
  {
   "cell_type": "code",
   "execution_count": 2,
   "metadata": {
    "collapsed": true
   },
   "outputs": [],
   "source": [
    "import tensorflow as tf"
   ]
  },
  {
   "cell_type": "code",
   "execution_count": 10,
   "metadata": {
    "collapsed": true
   },
   "outputs": [],
   "source": [
    "node1 =  tf.constant(3.0, dtype= tf.float32)\n",
    "node2 = tf.constant(4.0)"
   ]
  },
  {
   "cell_type": "code",
   "execution_count": 11,
   "metadata": {},
   "outputs": [
    {
     "name": "stdout",
     "output_type": "stream",
     "text": [
      "[3.0, 4.0]\n"
     ]
    }
   ],
   "source": [
    "sess = tf.Session()\n",
    "print(sess.run([node1, node2]))"
   ]
  },
  {
   "cell_type": "code",
   "execution_count": 12,
   "metadata": {},
   "outputs": [
    {
     "name": "stdout",
     "output_type": "stream",
     "text": [
      "[3.0, 4.0]\n"
     ]
    }
   ],
   "source": [
    "print(sess.run([node1,node2]))"
   ]
  },
  {
   "cell_type": "code",
   "execution_count": 13,
   "metadata": {},
   "outputs": [
    {
     "name": "stdout",
     "output_type": "stream",
     "text": [
      "Addition is :  [7.0]\n"
     ]
    }
   ],
   "source": [
    "node3 = tf.add(node1,node2)\n",
    "print(\"Addition is : \", sess.run([node3]))"
   ]
  },
  {
   "cell_type": "code",
   "execution_count": 106,
   "metadata": {
    "collapsed": true
   },
   "outputs": [],
   "source": [
    "M = tf.Variable(.6 ,dtype=tf.float32)\n",
    "C = tf.Variable(-.6, dtype = tf.float32)\n",
    "x = tf.placeholder(tf.float32)"
   ]
  },
  {
   "cell_type": "code",
   "execution_count": 107,
   "metadata": {
    "collapsed": true
   },
   "outputs": [],
   "source": [
    "y = M*x + C\n",
    "init = tf.global_variables_initializer()\n",
    "sess.run(init)"
   ]
  },
  {
   "cell_type": "code",
   "execution_count": 108,
   "metadata": {},
   "outputs": [
    {
     "name": "stdout",
     "output_type": "stream",
     "text": [
      "[ 0.          0.60000002  1.20000005  1.80000007]\n"
     ]
    }
   ],
   "source": [
    "print(sess.run(y, {x : [1,2,3,4]}))"
   ]
  },
  {
   "cell_type": "markdown",
   "metadata": {},
   "source": [
    "Loss function is created and used for evaluation. "
   ]
  },
  {
   "cell_type": "code",
   "execution_count": 109,
   "metadata": {
    "collapsed": true
   },
   "outputs": [],
   "source": [
    "B = tf.placeholder(tf.float32)\n",
    "sq_deltas = tf.square(y - B)\n",
    "loss_function = tf.reduce_sum(sq_deltas)"
   ]
  },
  {
   "cell_type": "code",
   "execution_count": 110,
   "metadata": {},
   "outputs": [
    {
     "name": "stdout",
     "output_type": "stream",
     "text": [
      "81.44\n"
     ]
    }
   ],
   "source": [
    "print(sess.run(loss_function, {x : [1,2,3,4], B : [0,-5,-4,-3]}))"
   ]
  },
  {
   "cell_type": "markdown",
   "metadata": {},
   "source": [
    "That is totally not okay as is nearly 80 and its too high. But if we want to lower our loss_function, we need to fix the input values."
   ]
  },
  {
   "cell_type": "code",
   "execution_count": 115,
   "metadata": {},
   "outputs": [
    {
     "data": {
      "text/plain": [
       "[-1.0, 1.0]"
      ]
     },
     "execution_count": 115,
     "metadata": {},
     "output_type": "execute_result"
    }
   ],
   "source": [
    "fixM = tf.assign(M,-1.)\n",
    "fixC = tf.assign(C, 1)\n",
    "sess.run([fixM,fixC])"
   ]
  },
  {
   "cell_type": "code",
   "execution_count": 116,
   "metadata": {},
   "outputs": [
    {
     "name": "stdout",
     "output_type": "stream",
     "text": [
      "20.0\n"
     ]
    }
   ],
   "source": [
    "print(sess.run(loss_function, {x : [1,2,3,4], B : [0,-5,-4,-3]}))"
   ]
  },
  {
   "cell_type": "markdown",
   "metadata": {},
   "source": [
    "See, the loss's function is lower than what we got before. "
   ]
  },
  {
   "cell_type": "code",
   "execution_count": 118,
   "metadata": {
    "collapsed": true
   },
   "outputs": [],
   "source": [
    "optimizer = tf.train.GradientDescentOptimizer(0.01)\n",
    "train = optimizer.minimize(loss_function)"
   ]
  },
  {
   "cell_type": "code",
   "execution_count": 121,
   "metadata": {
    "collapsed": true
   },
   "outputs": [],
   "source": [
    "sess.run(init) # reset values to incorrect defaults.\n",
    "for i in range(1000):\n",
    "  sess.run(train, {x: [1, 2, 3, 4], B: [0,-5,-4,-3]})"
   ]
  },
  {
   "cell_type": "code",
   "execution_count": 122,
   "metadata": {},
   "outputs": [
    {
     "name": "stdout",
     "output_type": "stream",
     "text": [
      "[-0.7999984, -1.0000046]\n"
     ]
    }
   ],
   "source": [
    "print(sess.run([M, C]))"
   ]
  },
  {
   "cell_type": "markdown",
   "metadata": {
    "collapsed": true
   },
   "source": [
    "We werent even close to guessing these values, but we got the exact and accurate values of the paramters defined earlier through proper training of the model. "
   ]
  },
  {
   "cell_type": "markdown",
   "metadata": {},
   "source": [
    "Lets sum up the steps of the linear model."
   ]
  },
  {
   "cell_type": "code",
   "execution_count": 128,
   "metadata": {},
   "outputs": [],
   "source": [
    "import tensorflow as tf\n",
    "\n",
    "# Model parameters\n",
    "M = tf.Variable([.6], dtype=tf.float32)\n",
    "C = tf.Variable([-.6], dtype=tf.float32)\n",
    "# Model input and output\n",
    "x = tf.placeholder(tf.float32)\n",
    "y = M * x + C\n",
    "\n",
    "B = tf.placeholder(tf.float32)\n",
    "\n",
    "# loss_function\n",
    "loss_function = tf.reduce_sum(tf.square(y - B)) # sum of the squares\n",
    "\n",
    "# optimizer\n",
    "optimizer = tf.train.GradientDescentOptimizer(0.01)\n",
    "train = optimizer.minimize(loss_function)\n",
    "\n",
    "# training data\n",
    "x_train = [1, 2, 3, 4]\n",
    "y_train = [0,-5,-4,-3]\n",
    "\n"
   ]
  },
  {
   "cell_type": "code",
   "execution_count": 129,
   "metadata": {
    "collapsed": true
   },
   "outputs": [],
   "source": [
    "# training loop\n",
    "init = tf.global_variables_initializer()\n",
    "sess = tf.Session()\n",
    "sess.run(init) # reset values to wrong\n",
    "for i in range(1000):\n",
    "  sess.run(train, {x: x_train, B : [0,-5,-4,-3]})\n",
    "\n"
   ]
  },
  {
   "cell_type": "code",
   "execution_count": 130,
   "metadata": {},
   "outputs": [
    {
     "name": "stdout",
     "output_type": "stream",
     "text": [
      "W: [-0.7999984] b: [-1.00000465] loss: 10.8\n"
     ]
    }
   ],
   "source": [
    "# evaluate training accuracy\n",
    "curr_M, curr_C, curr_loss_f = sess.run([M, C, loss_function], {x: x_train, B: y_train})\n",
    "print(\"W: %s b: %s loss: %s\"%(curr_M, curr_C, curr_loss_f))"
   ]
  },
  {
   "cell_type": "code",
   "execution_count": 140,
   "metadata": {},
   "outputs": [
    {
     "name": "stdout",
     "output_type": "stream",
     "text": [
      "INFO:tensorflow:Using default config.\n",
      "WARNING:tensorflow:Using temporary folder as model directory: C:\\Users\\raghu\\AppData\\Local\\Temp\\tmpa5xlqram\n",
      "INFO:tensorflow:Using config: {'_save_summary_steps': 100, '_save_checkpoints_steps': None, '_tf_random_seed': 1, '_log_step_count_steps': 100, '_keep_checkpoint_every_n_hours': 10000, '_model_dir': 'C:\\\\Users\\\\raghu\\\\AppData\\\\Local\\\\Temp\\\\tmpa5xlqram', '_keep_checkpoint_max': 5, '_session_config': None, '_save_checkpoints_secs': 600}\n"
     ]
    }
   ],
   "source": [
    "import tensorflow as tf\n",
    "# NumPy is often used to load, manipulate and preprocess data.\n",
    "import numpy as np\n",
    "\n",
    "# Declare list of features. We only have one numeric feature. There are many\n",
    "# other types of columns that are more complicated and useful.\n",
    "feature_cols = [tf.feature_column.numeric_column(\"a\", shape=[1])]\n",
    "\n",
    "# An estimator is the front end to invoke training (fitting) and evaluation\n",
    "# (inference). There are many predefined types like linear regression,\n",
    "# linear classification, and many neural network classifiers and regressors.\n",
    "# The following code provides an estimator that does linear regression.\n",
    "estimator = tf.estimator.LinearRegressor(feature_columns=feature_cols)\n",
    "\n"
   ]
  },
  {
   "cell_type": "code",
   "execution_count": 143,
   "metadata": {},
   "outputs": [
    {
     "name": "stdout",
     "output_type": "stream",
     "text": [
      "INFO:tensorflow:Create CheckpointSaverHook.\n",
      "INFO:tensorflow:Saving checkpoints for 1 into C:\\Users\\raghu\\AppData\\Local\\Temp\\tmpa5xlqram\\model.ckpt.\n",
      "INFO:tensorflow:loss = 94.0, step = 1\n",
      "INFO:tensorflow:global_step/sec: 652.458\n",
      "INFO:tensorflow:loss = 8.63604, step = 101 (0.153 sec)\n",
      "INFO:tensorflow:global_step/sec: 996.684\n",
      "INFO:tensorflow:loss = 10.7734, step = 201 (0.100 sec)\n",
      "INFO:tensorflow:global_step/sec: 997.786\n",
      "INFO:tensorflow:loss = 14.6472, step = 301 (0.100 sec)\n",
      "INFO:tensorflow:global_step/sec: 1190.98\n",
      "INFO:tensorflow:loss = 15.9084, step = 401 (0.084 sec)\n",
      "INFO:tensorflow:global_step/sec: 1001.1\n",
      "INFO:tensorflow:loss = 22.7208, step = 501 (0.100 sec)\n",
      "INFO:tensorflow:global_step/sec: 865.215\n",
      "INFO:tensorflow:loss = 14.583, step = 601 (0.116 sec)\n",
      "INFO:tensorflow:global_step/sec: 864.817\n",
      "INFO:tensorflow:loss = 10.7745, step = 701 (0.116 sec)\n",
      "INFO:tensorflow:global_step/sec: 996.08\n",
      "INFO:tensorflow:loss = 13.2826, step = 801 (0.100 sec)\n",
      "INFO:tensorflow:global_step/sec: 1185.75\n",
      "INFO:tensorflow:loss = 13.9536, step = 901 (0.100 sec)\n",
      "INFO:tensorflow:Saving checkpoints for 1000 into C:\\Users\\raghu\\AppData\\Local\\Temp\\tmpa5xlqram\\model.ckpt.\n",
      "INFO:tensorflow:Loss for final step: 10.855.\n"
     ]
    },
    {
     "data": {
      "text/plain": [
       "<tensorflow.python.estimator.canned.linear.LinearRegressor at 0x2092faeae80>"
      ]
     },
     "execution_count": 143,
     "metadata": {},
     "output_type": "execute_result"
    }
   ],
   "source": [
    "# TensorFlow provides many helper methods to read and set up data sets.\n",
    "# Here we use two data sets: one for training and one for evaluation\n",
    "# We have to tell the function how many batches\n",
    "# of data (num_epochs) we want and how big each batch should be.\n",
    "a_train = np.array([0., 5., 3., 4.])\n",
    "y_train = np.array([0., -6., -7., -3.])\n",
    "a_eval = np.array([2., 5., 8., 10.])\n",
    "y_eval = np.array([-1.01, -6.1, -7., 4.])\n",
    "input_fun = tf.estimator.inputs.numpy_input_fn(\n",
    "    {\"a\": a_train}, y_train, batch_size=4, num_epochs=None, shuffle=True)\n",
    "train_input_fun = tf.estimator.inputs.numpy_input_fn(\n",
    "    {\"a\": a_train}, y_train, batch_size=4, num_epochs=1000, shuffle=False)\n",
    "eval_input_fun = tf.estimator.inputs.numpy_input_fn(\n",
    "    {\"a\": a_eval}, y_eval, batch_size=4, num_epochs=1000, shuffle=False)\n",
    "\n",
    "# We can invoke 1000 training steps by invoking the method and passing the\n",
    "# training data set.\n",
    "estimator.train(input_fn=input_fun, steps=1000)\n",
    "\n"
   ]
  },
  {
   "cell_type": "code",
   "execution_count": 145,
   "metadata": {},
   "outputs": [
    {
     "name": "stdout",
     "output_type": "stream",
     "text": [
      "INFO:tensorflow:Starting evaluation at 2017-10-11-04:34:17\n",
      "INFO:tensorflow:Restoring parameters from C:\\Users\\raghu\\AppData\\Local\\Temp\\tmpa5xlqram\\model.ckpt-1000\n",
      "INFO:tensorflow:Finished evaluation at 2017-10-11-04:34:18\n",
      "INFO:tensorflow:Saving dict for global step 1000: average_loss = 3.49334, global_step = 1000, loss = 13.9734\n",
      "INFO:tensorflow:Starting evaluation at 2017-10-11-04:34:19\n",
      "INFO:tensorflow:Restoring parameters from C:\\Users\\raghu\\AppData\\Local\\Temp\\tmpa5xlqram\\model.ckpt-1000\n",
      "INFO:tensorflow:Finished evaluation at 2017-10-11-04:34:19\n",
      "INFO:tensorflow:Saving dict for global step 1000: average_loss = 59.9188, global_step = 1000, loss = 239.675\n",
      "train metrics: {'average_loss': 3.4933407, 'loss': 13.973363, 'global_step': 1000}\n",
      "eval metrics: {'average_loss': 59.91877, 'loss': 239.67508, 'global_step': 1000}\n"
     ]
    }
   ],
   "source": [
    "# Here we evaluate how well our model did.\n",
    "train_metrics = estimator.evaluate(input_fn=train_input_fun)\n",
    "eval_metrics = estimator.evaluate(input_fn=eval_input_fun)\n",
    "print(\"train metrics: %r\"% train_metrics)\n",
    "print(\"eval metrics: %r\"% eval_metrics)"
   ]
  },
  {
   "cell_type": "code",
   "execution_count": null,
   "metadata": {
    "collapsed": true
   },
   "outputs": [],
   "source": []
  }
 ],
 "metadata": {
  "kernelspec": {
   "display_name": "Python 3",
   "language": "python",
   "name": "python3"
  },
  "language_info": {
   "codemirror_mode": {
    "name": "ipython",
    "version": 3
   },
   "file_extension": ".py",
   "mimetype": "text/x-python",
   "name": "python",
   "nbconvert_exporter": "python",
   "pygments_lexer": "ipython3",
   "version": "3.5.4"
  }
 },
 "nbformat": 4,
 "nbformat_minor": 2
}
