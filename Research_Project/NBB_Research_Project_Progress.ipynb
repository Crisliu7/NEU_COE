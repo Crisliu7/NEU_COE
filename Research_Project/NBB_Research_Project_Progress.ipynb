{
 "cells": [
  {
   "cell_type": "markdown",
   "metadata": {},
   "source": [
    "# Machine Learning Research Project Progress"
   ]
  },
  {
   "cell_type": "markdown",
   "metadata": {
    "collapsed": true
   },
   "source": [
    "**What is expected?**\n",
    "\n",
    "a.\tA clear description of the topic.  (10 %)   \n",
    "b.\tBackground research of related work. (10 %)    \n",
    "c.\tEvaluation.  (10 %)   \n",
    "d.\tProgress. (60 %)     \n",
    "e.\tNext steps. (10 %)    \n",
    "\n",
    "\n",
    "Groups should give a project progress report of around 10 minutes.\n",
    "\n",
    "You'll upload your report to BB after the group presents. But it can be a zip of whatever you present.\n",
    "\n",
    "You can present in any format but most will use notebooks.  "
   ]
  },
  {
   "cell_type": "markdown",
   "metadata": {
    "collapsed": true
   },
   "source": [
    "**Grading Rubric:**\n",
    "\n",
    "The following breakdown will be used for determining the score for the research project progress: \n",
    "\n",
    "| Assignment              | Points   |\n",
    "|-------------------------|----------|\n",
    "| Clear description       |      10  |\n",
    "| Background research     |      10  |\n",
    "| Evaluation              |      10  |\n",
    "| Progress                |      60  |\n",
    "| References              |      10  |\n",
    "\t\n"
   ]
  },
  {
   "cell_type": "markdown",
   "metadata": {},
   "source": [
    "## A clear description of the topic  \n",
    "\n",
    "* What is the question being asked?    \n",
    "* Present clear and basic information.   \n",
    "* Use facts, examples, or anecdotes that readers will understand.     \n"
   ]
  },
  {
   "cell_type": "markdown",
   "metadata": {},
   "source": [
    "## Background research of related work  \n",
    "\n",
    "* What have others done to solve to question?    \n",
    "* Why is the question interesting?  \n",
    "* What data is availible to answer the question?\n"
   ]
  },
  {
   "cell_type": "markdown",
   "metadata": {},
   "source": [
    "## Evaluation  \n",
    "\n",
    "* What are the quantitative measures of success?    \n",
    "* What are the qualitative measures of success?  \n"
   ]
  },
  {
   "cell_type": "markdown",
   "metadata": {},
   "source": [
    "## Progress "
   ]
  },
  {
   "attachments": {},
   "cell_type": "markdown",
   "metadata": {},
   "source": [
    "**Progress Report**     \n",
    "\n",
    "An account of how much work has _been done_ on something and what _still needs to be done_. \n",
    "\n",
    "An assessment that conveys details such as what sub-goals have been accomplished, what problems have been encountered, and whether the project is expected to be completed on time.\n",
    "\n",
    "- http://www.businessdictionary.com/definition/progress-report.html\n",
    "\n",
    "\n",
    "\n",
    "\n",
    "```python\n",
    "“In God we trust; all others bring data.”\n",
    "\n",
    "\n",
    "― W. Edwards Deming\n",
    "```\n",
    "\n"
   ]
  },
  {
   "cell_type": "markdown",
   "metadata": {},
   "source": [
    "### Show and Tell\n",
    "\n",
    "Show and tell means **show** an audience something and telling them about it.   \n",
    "\n",
    "\n",
    "**Show what you have done!!!!**  \n",
    "\n",
    "![Show and tell simpsons](http://nikbearbrown.com/YouTube/MachineLearning/IMG/show_and_tell_simpsons.png)\n",
    "\n",
    "![Show and tell calvin](http://nikbearbrown.com/YouTube/MachineLearning/IMG/show_and_tell_calvin.png)"
   ]
  },
  {
   "cell_type": "markdown",
   "metadata": {},
   "source": [
    "## Next steps\n",
    "\n",
    "What still needs to be done?"
   ]
  },
  {
   "cell_type": "markdown",
   "metadata": {},
   "source": [
    "Last update October 3, 2017"
   ]
  }
 ],
 "metadata": {
  "kernelspec": {
   "display_name": "Python 3",
   "language": "python",
   "name": "python3"
  },
  "language_info": {
   "codemirror_mode": {
    "name": "ipython",
    "version": 3
   },
   "file_extension": ".py",
   "mimetype": "text/x-python",
   "name": "python",
   "nbconvert_exporter": "python",
   "pygments_lexer": "ipython3",
   "version": "3.6.1"
  }
 },
 "nbformat": 4,
 "nbformat_minor": 2
}
