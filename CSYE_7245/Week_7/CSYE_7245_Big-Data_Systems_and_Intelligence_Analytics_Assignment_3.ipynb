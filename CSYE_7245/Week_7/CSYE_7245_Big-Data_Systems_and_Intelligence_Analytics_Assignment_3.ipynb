{
 "cells": [
  {
   "cell_type": "markdown",
   "metadata": {
    "collapsed": true
   },
   "source": [
    "## Assignment 3 - Your Project Database\n",
    "\n",
    "**Due Tuesday, October 31, 2017**\n",
    "\n",
    "_Submission: Put the data and Jupyter notebook files in a folder. Make sure all links to data are relative to the folder so the TAs can run the notebooks._\n",
    "\n",
    "You MUST use the data set that you will use in your project.\n",
    "   \n",
    "In this assignment, you will create a database for analysis for your project. The assignment can be done together for group projects.\n",
    "\n",
    "\n",
    "\n",
    "## Part A - Create a database (30 points)\n",
    "\n",
    "* Create a database for your project. If a relational database it must be in at least third normal form. Your database can be SQL, NoSQL or Hadoop Distributed File System (HDFS). Show your schema.\n",
    "\n",
    "    \n",
    "## Part B - Queries (30 points)\n",
    "\n",
    "* Generate a list of five common queries for your data.   \n",
    "* Implement the five common queries.  \n",
    "* Time the implementation of the five common queries and give an estimate of how they scale.  \n",
    "\n",
    "## Part C - Pipeline/automation (20 points)  \n",
    "\n",
    "* Design at least one pipeline or sequence of analysis.   \n",
    "* Implement at least one pipeline or sequence of analysis. This can by done with Celery, Dask, Luigi, Airflow or through shell scripting.   \n",
    "\n",
    "\n",
    "## Part D - Back-up your data (20 points)\n",
    "\n",
    "* Create a scheme to back-up your data.  \n",
    "* Implement your scheme to back-up your data.     \n",
    "\n",
    "\n",
    "\n",
    "\n"
   ]
  },
  {
   "cell_type": "markdown",
   "metadata": {},
   "source": [
    "Last update October 3, 2017\n",
    "\n",
    "The text is released under the [CC-BY-NC-ND license](https://creativecommons.org/licenses/by-nc-nd/3.0/us/legalcode), and code is released under the [MIT license](https://opensource.org/licenses/MIT)."
   ]
  }
 ],
 "metadata": {
  "kernelspec": {
   "display_name": "Python 3",
   "language": "python",
   "name": "python3"
  },
  "language_info": {
   "codemirror_mode": {
    "name": "ipython",
    "version": 3
   },
   "file_extension": ".py",
   "mimetype": "text/x-python",
   "name": "python",
   "nbconvert_exporter": "python",
   "pygments_lexer": "ipython3",
   "version": "3.6.1"
  }
 },
 "nbformat": 4,
 "nbformat_minor": 2
}
